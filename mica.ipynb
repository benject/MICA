{
  "cells": [
    {
      "cell_type": "code",
      "execution_count": null,
      "metadata": {
        "colab": {
          "base_uri": "https://localhost:8080/"
        },
        "id": "v8ZqaswFAor2",
        "outputId": "242e3052-ec35-4074-e9ed-78c06b3ca62a"
      },
      "outputs": [],
      "source": [
        "!git clone https://github.com/benject/MICA.git"
      ]
    },
    {
      "cell_type": "code",
      "execution_count": null,
      "metadata": {
        "colab": {
          "base_uri": "https://localhost:8080/"
        },
        "id": "ho9sJ-uKCpvf",
        "outputId": "e5386d30-99ae-467f-ecc4-fc73a68c63f9"
      },
      "outputs": [],
      "source": [
        "%cd /content/\n",
        "!ls\n",
        "!wget -c https://repo.anaconda.com/miniconda/Miniconda3-py39_23.3.1-0-Linux-x86_64.sh\n",
        "!ls\n",
        "!chmod +x /content/Miniconda3-py39_23.3.1-0-Linux-x86_64.sh"
      ]
    },
    {
      "cell_type": "code",
      "execution_count": null,
      "metadata": {
        "colab": {
          "base_uri": "https://localhost:8080/"
        },
        "id": "4B3-sOshDfUR",
        "outputId": "57bde127-afb3-497c-db19-657259752362"
      },
      "outputs": [],
      "source": [
        "%env PYTHONPATH = \n",
        "!./Miniconda3-py39_23.3.1-0-Linux-x86_64.sh -b -f -p /usr/local"
      ]
    },
    {
      "cell_type": "code",
      "execution_count": null,
      "metadata": {
        "colab": {
          "base_uri": "https://localhost:8080/"
        },
        "id": "EoZ85Wa3DwFo",
        "outputId": "b9f6509c-b50d-4aa4-c34e-58c8748fb700"
      },
      "outputs": [],
      "source": [
        "!which conda\n",
        "!conda --version\n",
        "!which python\n",
        "!python -V"
      ]
    },
    {
      "cell_type": "code",
      "execution_count": null,
      "metadata": {
        "colab": {
          "base_uri": "https://localhost:8080/"
        },
        "id": "CRoRMfHAI8N1",
        "outputId": "958ebb84-6704-4c31-d473-48cfeae079c5"
      },
      "outputs": [],
      "source": [
        "%cd /content/MICA/\n",
        "!bash ./install.sh"
      ]
    },
    {
      "cell_type": "code",
      "execution_count": null,
      "metadata": {
        "colab": {
          "base_uri": "https://localhost:8080/",
          "height": 807
        },
        "id": "dNOz3QRcSFSX",
        "outputId": "1d112e0f-8de6-4eea-c7c6-553f60e0a023"
      },
      "outputs": [],
      "source": [
        "%%bash\n",
        "source /usr/local/etc/profile.d/conda.sh\n",
        "conda activate MICA\n",
        "python demo.py"
      ]
    }
  ],
  "metadata": {
    "colab": {
      "provenance": []
    },
    "kernelspec": {
      "display_name": "Python 3",
      "name": "python3"
    },
    "language_info": {
      "name": "python"
    }
  },
  "nbformat": 4,
  "nbformat_minor": 0
}
